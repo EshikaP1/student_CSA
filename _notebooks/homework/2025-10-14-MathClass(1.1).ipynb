{
 "cells": [
  {
   "cell_type": "markdown",
   "id": "273d0a20",
   "metadata": {},
   "source": [
    "---\n",
    "layout: post\n",
    "title: Java compound assignment\n",
    "description: compound assignment\n",
    "comments: true\n",
    "permalink: /csa/unit_01/1_11\n",
    "author: Eshika\n",
    "---"
   ]
  },
  {
   "cell_type": "markdown",
   "id": "075406ec",
   "metadata": {},
   "source": [
    "## Popcorn Hack 1"
   ]
  },
  {
   "cell_type": "code",
   "execution_count": 1,
   "id": "2d39b9f5",
   "metadata": {
    "vscode": {
     "languageId": "java"
    }
   },
   "outputs": [],
   "source": [
    "public class PowerLevelCalculator {\n",
    "    public static void main(String[] args) {\n",
    "        // Base power\n",
    "        double basePower = 50;\n",
    "\n",
    "        // Hard-coded level (you can also use Scanner to take input)\n",
    "        int level = 15;\n",
    "\n",
    "        // Calculate final power using the formula basePower * (1.2)^level\n",
    "        double finalPower = basePower * Math.pow(1.2, level);\n",
    "\n",
    "        // Print results\n",
    "        System.out.println(\"Level: \" + level);\n",
    "        System.out.println(\"Base Power: \" + basePower);\n",
    "        System.out.printf(\"Final Power: %.2f%n\", finalPower);\n",
    "    }\n",
    "}\n"
   ]
  },
  {
   "cell_type": "code",
   "execution_count": 2,
   "id": "ecd6ab45",
   "metadata": {
    "vscode": {
     "languageId": "java"
    }
   },
   "outputs": [
    {
     "name": "stdout",
     "output_type": "stream",
     "text": [
      "Level: 15\n",
      "Base Power: 50.0\n",
      "Final Power: 770.35\n"
     ]
    }
   ],
   "source": [
    "PowerLevelCalculator.main(null);"
   ]
  },
  {
   "cell_type": "markdown",
   "id": "51bd60b5",
   "metadata": {},
   "source": [
    "## Popcorn Hack 2"
   ]
  },
  {
   "cell_type": "code",
   "execution_count": 1,
   "id": "c98b64cb",
   "metadata": {
    "vscode": {
     "languageId": "java"
    }
   },
   "outputs": [],
   "source": [
    "public class LootDropSimulator {\n",
    "    public static void main(String[] args) {\n",
    "        System.out.println(\"Loot Drop!\");\n",
    "\n",
    "        // Generate a random rarity number between 1 and 50\n",
    "        int rarityRoll = (int)(Math.random() * 50) + 15;\n",
    "        System.out.println(\"Rarity Roll: \" + rarityRoll);\n",
    "\n",
    "        String rarity;\n",
    "        int goldValue;\n",
    "\n",
    "        // Determine rarity and gold range\n",
    "        if (rarityRoll <= 30) {\n",
    "            rarity = \"COMMON\";\n",
    "            goldValue = (int)(Math.random() * 17) + 2; // 2–18 gold\n",
    "        } else if (rarityRoll <= 85) {\n",
    "            rarity = \"RARE\";\n",
    "            goldValue = (int)(Math.random() * 20) + 23; // 23–62 gold\n",
    "        } else {\n",
    "            rarity = \"LEGENDARY\";\n",
    "            goldValue = (int)(Math.random() * 15) + 79; // 79–94 gold\n",
    "        }\n",
    "\n",
    "        // Print results\n",
    "        System.out.println(\"You got: \" + rarity + \" item\");\n",
    "        System.out.println(\"Gold Value: \" + goldValue);\n",
    "    }\n",
    "}\n"
   ]
  },
  {
   "cell_type": "code",
   "execution_count": 2,
   "id": "badf4ece",
   "metadata": {
    "vscode": {
     "languageId": "java"
    }
   },
   "outputs": [
    {
     "name": "stdout",
     "output_type": "stream",
     "text": [
      "Loot Drop!\n",
      "Rarity Roll: 54\n",
      "You got: RARE item\n",
      "Gold Value: 40\n"
     ]
    }
   ],
   "source": [
    "LootDropSimulator.main(null);"
   ]
  },
  {
   "cell_type": "markdown",
   "id": "01afd346",
   "metadata": {},
   "source": [
    "## Hw (Part A-D)"
   ]
  },
  {
   "cell_type": "code",
   "execution_count": 3,
   "id": "00f5ce4f",
   "metadata": {
    "vscode": {
     "languageId": "java"
    }
   },
   "outputs": [],
   "source": [
    "public class GameStatsCalculator {\n",
    "\n",
    "    // Part A: Health Difference Calculator\n",
    "    public static int healthDifference(int player1Health, int player2Health) {\n",
    "        // Calculate and return the absolute difference\n",
    "        return Math.abs(player1Health - player2Health);\n",
    "    }\n",
    "\n",
    "    // Part B: Attack Damage Calculator\n",
    "    public static double calculateDamage(double baseDamage, double powerLevel) {\n",
    "        // Formula: baseDamage × (1.5 ^ powerLevel)\n",
    "        double totalDamage = baseDamage * Math.pow(1.5, powerLevel);\n",
    "        return totalDamage;\n",
    "    }\n",
    "\n",
    "    // Part C: Distance Detector\n",
    "    public static double findDistance(int playerX, int playerY, int enemyX, int enemyY) {\n",
    "        // Using distance formula √((x2 - x1)² + (y2 - y1)²)\n",
    "        double dx = enemyX - playerX;\n",
    "        double dy = enemyY - playerY;\n",
    "        double distance = Math.sqrt(Math.pow(dx, 2) + Math.pow(dy, 2));\n",
    "        return distance;\n",
    "    }\n",
    "\n",
    "    // Part D: Random Loot Generator\n",
    "    public static int generateLoot(int minValue, int maxValue) {\n",
    "        // Generates an integer between minValue and maxValue (inclusive)\n",
    "        return (int)(Math.random() * (maxValue - minValue + 1)) + minValue;\n",
    "    }\n",
    "\n",
    "    // Test the methods\n",
    "    public static void main(String[] args) {\n",
    "\n",
    "        System.out.println(\"=== GAME STATS CALCULATOR ===\");\n",
    "\n",
    "        // Part A Tests\n",
    "        System.out.println(\"\\n[Health Difference Tests]\");\n",
    "        System.out.println(\"Players (95, 140): \" + healthDifference(95, 140));    // Expected: 45\n",
    "        System.out.println(\"Players (210, 160): \" + healthDifference(210, 160));  // Expected: 50\n",
    "        System.out.println(\"Players (75, 75): \" + healthDifference(75, 75));      // Expected: 0\n",
    "\n",
    "        // Part B Tests\n",
    "        System.out.println(\"\\n[Attack Damage Tests]\");\n",
    "        System.out.printf(\"Base: 12.0, Power: 2.5 → %.3f%n\", calculateDamage(12.0, 2.5));\n",
    "        System.out.printf(\"Base: 20.0, Power: 3.0 → %.3f%n\", calculateDamage(20.0, 3.0));\n",
    "\n",
    "        // Part C Tests\n",
    "        System.out.println(\"\\n[Distance Detector Tests]\");\n",
    "        System.out.printf(\"Player(2,3) to Enemy(6,7) → %.2f%n\", findDistance(2, 3, 6, 7));\n",
    "        System.out.printf(\"Player(-1,-1) to Enemy(4,3) → %.2f%n\", findDistance(-1, -1, 4, 3));\n",
    "\n",
    "        // Part D Tests\n",
    "        System.out.println(\"\\n[Random Loot Tests]\");\n",
    "        System.out.println(\"Loot (50–100): \" + generateLoot(50, 100));\n",
    "        System.out.println(\"Loot (1–10): \" + generateLoot(1, 10));\n",
    "    }\n",
    "}\n"
   ]
  },
  {
   "cell_type": "code",
   "execution_count": 4,
   "id": "fcd6a548",
   "metadata": {
    "vscode": {
     "languageId": "java"
    }
   },
   "outputs": [
    {
     "name": "stdout",
     "output_type": "stream",
     "text": [
      "=== GAME STATS CALCULATOR ===\n",
      "\n",
      "[Health Difference Tests]\n",
      "Players (95, 140): 45\n",
      "Players (210, 160): 50\n",
      "Players (75, 75): 0\n",
      "\n",
      "[Attack Damage Tests]\n",
      "Base: 12.0, Power: 2.5 → 33.068\n",
      "Base: 20.0, Power: 3.0 → 67.500\n",
      "\n",
      "[Distance Detector Tests]\n",
      "Player(2,3) to Enemy(6,7) → 5.66\n",
      "Player(-1,-1) to Enemy(4,3) → 6.40\n",
      "\n",
      "[Random Loot Tests]\n",
      "Loot (50–100): 76\n",
      "Loot (1–10): 6\n"
     ]
    }
   ],
   "source": [
    "GameStatsCalculator.main(null);"
   ]
  }
 ],
 "metadata": {
  "kernelspec": {
   "display_name": "Java",
   "language": "java",
   "name": "java"
  },
  "language_info": {
   "codemirror_mode": "java",
   "file_extension": ".jshell",
   "mimetype": "text/x-java-source",
   "name": "Java",
   "pygments_lexer": "java",
   "version": "17.0.16+8-Ubuntu-0ubuntu122.04.1"
  }
 },
 "nbformat": 4,
 "nbformat_minor": 5
}
