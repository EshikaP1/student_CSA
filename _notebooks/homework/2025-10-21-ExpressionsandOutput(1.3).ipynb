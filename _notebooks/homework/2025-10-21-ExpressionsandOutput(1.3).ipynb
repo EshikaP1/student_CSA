{
 "cells": [
  {
   "cell_type": "markdown",
   "id": "3d48af5c",
   "metadata": {},
   "source": [
    "---\n",
    "layout: post\n",
    "title: Java compound assignment\n",
    "description: compound assignment\n",
    "comments: true\n",
    "permalink: /csa/unit_01/1_3\n",
    "author: Eshika\n",
    "---"
   ]
  },
  {
   "cell_type": "code",
   "execution_count": 1,
   "metadata": {
    "vscode": {
     "languageId": "java"
    }
   },
   "outputs": [
    {
     "name": "stdout",
     "output_type": "stream",
     "text": [
      "AP CSA\n",
      "Rocks!\n",
      "C:\\Users\\Student\n",
      "==== Menu ====\n",
      "1. Start\n",
      "2. Load\n",
      "3. Exit\n",
      "4. Settings\n",
      "Pi = 3.14\n"
     ]
    },
    {
     "data": {
      "text/plain": [
       "java.io.PrintStream@1a2d601e"
      ]
     },
     "execution_count": 1,
     "metadata": {},
     "output_type": "execute_result"
    }
   ],
   "source": [
    "// ========================\n",
    "// Homework Hack 1\n",
    "// ========================\n",
    "\n",
    "// Predict Output:\n",
    "// AP CSA\n",
    "// Rocks!\n",
    "System.out.print(\"AP \");\n",
    "System.out.println(\"CSA\");\n",
    "System.out.println(\"Rocks!\");\n",
    "\n",
    "// Fix the Bug:\n",
    "System.out.println(\"C:\\\\Users\\\\Student\");\n",
    "\n",
    "// Add a 4th option (Settings) and update optionCount\n",
    "int optionCount = 4;\n",
    "System.out.println(\"==== Menu ====\");\n",
    "System.out.println(\"1. Start\");\n",
    "System.out.println(\"2. Load\");\n",
    "System.out.println(\"3. Exit\");\n",
    "System.out.println(\"4. Settings\");\n",
    "\n",
    "// Print Pi with 2 decimals\n",
    "System.out.printf(\"Pi = %.2f\\n\", Math.PI);\n",
    "\n",
    "\n",
    "// ========================\n",
    "// Homework Hack 2: Calculator Menu"
   ]
  },
  {
   "cell_type": "code",
   "execution_count": 1,
   "id": "ac16f89f",
   "metadata": {
    "vscode": {
     "languageId": "java"
    }
   },
   "outputs": [],
   "source": [
    "\n",
    "// ========================\n",
    "// Homework Hack 2: Calculator Menu\n",
    "// ========================\n",
    "\n",
    "import java.util.Scanner;\n",
    "\n",
    "public class CalculatorMenu {\n",
    "    public static void main(String[] args) {\n",
    "        Scanner input = new Scanner(System.in);\n",
    "\n",
    "        // Display the calculator menu\n",
    "        System.out.println(\"==== Calculator Menu ====\");\n",
    "        System.out.println(\"1. Add\");\n",
    "        System.out.println(\"2. Subtract\");\n",
    "        System.out.println(\"3. Multiply\");\n",
    "        System.out.println(\"4. Divide\");\n",
    "        System.out.print(\"Choose an option: \");\n",
    "        int choice = input.nextInt();\n",
    "\n",
    "        // Ask for user numbers\n",
    "        System.out.print(\"Enter first number: \");\n",
    "        double num1 = input.nextDouble();\n",
    "        System.out.print(\"Enter second number: \");\n",
    "        double num2 = input.nextDouble();\n",
    "\n",
    "        // Compute and display result\n",
    "        double result = 0;\n",
    "        if (choice == 1) result = num1 + num2;\n",
    "        else if (choice == 2) result = num1 - num2;\n",
    "        else if (choice == 3) result = num1 * num2;\n",
    "        else if (choice == 4) result = num1 / num2;\n",
    "        else System.out.println(\"Invalid option!\");\n",
    "\n",
    "        System.out.println(\"Result: \" + result);\n",
    "        input.close();\n",
    "    }\n",
    "}"
   ]
  }
 ],
 "metadata": {
  "kernelspec": {
   "display_name": "Java",
   "language": "java",
   "name": "java"
  },
  "language_info": {
   "codemirror_mode": "java",
   "file_extension": ".jshell",
   "mimetype": "text/x-java-source",
   "name": "Java",
   "pygments_lexer": "java",
   "version": "17.0.16+8-Ubuntu-0ubuntu122.04.1"
  }
 },
 "nbformat": 4,
 "nbformat_minor": 5
}
