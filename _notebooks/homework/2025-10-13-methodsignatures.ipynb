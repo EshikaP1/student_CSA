{
 "cells": [
  {
   "cell_type": "markdown",
   "id": "9b330e04",
   "metadata": {},
   "source": [
    "---\n",
    "layout: post\n",
    "title: Java compound assignment\n",
    "description: compound assignment\n",
    "comments: true\n",
    "permalink: /csa/unit_01/1_9\n",
    "author: Eshika\n",
    "---"
   ]
  },
  {
   "cell_type": "markdown",
   "id": "fa408cf7",
   "metadata": {},
   "source": [
    "Popcorn Hack 1"
   ]
  },
  {
   "cell_type": "code",
   "execution_count": 2,
   "id": "97c199d1",
   "metadata": {},
   "outputs": [],
   "source": [
    "public class PopcornMax {\n",
    "\n",
    "    public static int maxInt(int x, int y) {\n",
    "        return (x > y) ? x : y;\n",
    "    }\n",
    "\n",
    "    public static double maxDouble(double x, double y) {\n",
    "        return (x > y) ? x : y;\n",
    "    }\n",
    "\n",
    "    public static void main(String[] args) {\n",
    "        System.out.println(maxInt(4, 10));\n",
    "        System.out.println(maxInt(-5, 3));\n",
    "        System.out.println(maxDouble(7.8, 9.2));\n",
    "        System.out.println(maxDouble(5, 5.0));\n",
    "    }\n",
    "}\n"
   ]
  },
  {
   "cell_type": "code",
   "execution_count": 6,
   "id": "3c76abcb",
   "metadata": {},
   "outputs": [
    {
     "name": "stdout",
     "output_type": "stream",
     "text": [
      "10\n",
      "3\n",
      "9.2\n",
      "5.0\n"
     ]
    }
   ],
   "source": [
    "PopcornMax.main(null);"
   ]
  },
  {
   "cell_type": "markdown",
   "id": "9a81ba88",
   "metadata": {},
   "source": [
    "Popcorn hack 2"
   ]
  },
  {
   "cell_type": "code",
   "execution_count": 1,
   "id": "0c17588c",
   "metadata": {},
   "outputs": [],
   "source": [
    "public class PopcornPrint {\n",
    "\n",
    "    public static void print(int num) {\n",
    "        System.out.println(\"int value → \" + num);\n",
    "    }\n",
    "\n",
    "    public static void print(String text) {\n",
    "        System.out.println(\"string value → \" + text);\n",
    "    }\n",
    "\n",
    "    public static void main(String[] args) {\n",
    "        print(99);\n",
    "        print(\"coding rocks\");\n",
    "        print('B' + \"!\");\n",
    "    }\n",
    "}\n"
   ]
  },
  {
   "cell_type": "code",
   "execution_count": null,
   "id": "d112e7f2",
   "metadata": {},
   "outputs": [
    {
     "name": "stdout",
     "output_type": "stream",
     "text": [
      "int value → 99\n"
     ]
    },
    {
     "name": "stdout",
     "output_type": "stream",
     "text": [
      "string value → coding rocks\n",
      "string value → B!\n"
     ]
    }
   ],
   "source": [
    "PopcornPrint.print(99);\n",
    "PopcornPrint.print(\"coding rocks\"); \n",
    "PopcornPrint.print('B' + \"!\");"
   ]
  },
  {
   "cell_type": "markdown",
   "id": "416b1219",
   "metadata": {},
   "source": [
    "## Short Answer Question:\n",
    "Explain why int sum(int a, int b) and double sum(int a, int b) cannot both exist. In one sentence, distinguish parameters vs arguments."
   ]
  },
  {
   "cell_type": "markdown",
   "id": "6cf19437",
   "metadata": {},
   "source": [
    "int sum(int a, int b) and double sum(int a, int b) can’t both exist because they have the same parameter list, and overloading depends on the types and number of parameters, not the return type.\n",
    "\n",
    "Parameters are the named variables declared in a method’s header, while arguments are the real values supplied when the method is invoked."
   ]
  },
  {
   "cell_type": "markdown",
   "id": "a8239b4e",
   "metadata": {},
   "source": [
    "## Coding Tasks (write Java in code blocks; pseudo-Java acceptable) \n",
    "1) Write three overloads of abs: int abs(int x), double abs(double x), and long abs(long x). \n",
    "2) Implement two overloads of concat: String concat(String a, String b) returns concatenation. String concat(String a, int n) returns a repeated n times. \n",
    "3) Determine output:\n",
    "java static void show(int x) { System.out.println(“int”); } static void show(double x) { System.out.println(“double”); } static void show(long x) { System.out.println(“long”); }\n",
    "show(7); show(7L); show(7.0);"
   ]
  },
  {
   "cell_type": "code",
   "execution_count": 8,
   "id": "2e815230",
   "metadata": {},
   "outputs": [],
   "source": [
    "public class PopcornOverloads {\n",
    "\n",
    "    public static int abs(int x) {\n",
    "        return (x < 0) ? -x : x;\n",
    "    }\n",
    "\n",
    "    public static double abs(double x) {\n",
    "        return (x < 0) ? -x : x;\n",
    "    }\n",
    "\n",
    "    public static long abs(long x) {\n",
    "        return (x < 0) ? -x : x;\n",
    "    }\n",
    "}\n"
   ]
  },
  {
   "cell_type": "code",
   "execution_count": 9,
   "id": "9c6d6f10",
   "metadata": {},
   "outputs": [],
   "source": [
    "public class PopcornConcat {\n",
    "\n",
    "    public static String concat(String a, String b) {\n",
    "        return a + b;\n",
    "    }\n",
    "\n",
    "    public static String concat(String a, int n) {\n",
    "        String result = \"\";\n",
    "        for (int i = 0; i < n; i++) {\n",
    "            result += a;\n",
    "        }\n",
    "        return result;\n",
    "    }\n",
    "}\n"
   ]
  },
  {
   "cell_type": "code",
   "execution_count": 11,
   "id": "8712247c",
   "metadata": {},
   "outputs": [
    {
     "name": "stdout",
     "output_type": "stream",
     "text": [
      "int\n",
      "long\n",
      "double\n"
     ]
    }
   ],
   "source": [
    "static void show(int x) { System.out.println(\"int\"); }\n",
    "static void show(double x) { System.out.println(\"double\"); }\n",
    "static void show(long x) { System.out.println(\"long\"); }\n",
    "\n",
    "show(16);\n",
    "show(16L);\n",
    "show(16.0);\n"
   ]
  },
  {
   "cell_type": "markdown",
   "id": "cdac6a0e",
   "metadata": {},
   "source": [
    "## FRQ-style\n",
    "FRQ 1. indexOf(char target, String s): return the index of first target in s or -1 if not found. Overload with indexOf(String target, String s) for first substring occurrence (without using library indexOf). State assumptions and constraints.\n",
    "\n",
    "FRQ 2. Overload clamp:\n",
    "int clamp(int value, int low, int high) returns value confined to [low, high].\n",
    "double clamp(double value, double low, double high) similarly for doubles. Handle the case low > high by swapping."
   ]
  },
  {
   "cell_type": "code",
   "execution_count": 22,
   "id": "c47b32be",
   "metadata": {},
   "outputs": [],
   "source": [
    "public class StringSearch {\n",
    "\n",
    "    /** Returns the index of the first occurrence of target in s, or -1 if not found. */\n",
    "    public static int indexOf(char target, String s) {\n",
    "        for (int i = 0; i < s.length(); i++) {\n",
    "            if (s.charAt(i) == target) {\n",
    "                return i;\n",
    "            }\n",
    "        }\n",
    "        return -1;\n",
    "    }\n",
    "\n",
    "    /** Returns the index of the first occurrence of target substring in s, or -1 if not found. */\n",
    "    public static int indexOf(String target, String s) {\n",
    "        if (target.length() == 0 || target.length() > s.length()) {\n",
    "            return -1;\n",
    "        }\n",
    "        for (int i = 0; i <= s.length() - target.length(); i++) {\n",
    "            boolean match = true;\n",
    "            for (int j = 0; j < target.length(); j++) {\n",
    "                if (s.charAt(i + j) != target.charAt(j)) {\n",
    "                    match = false;\n",
    "                    break;\n",
    "                }\n",
    "            }\n",
    "            if (match) {\n",
    "                return i;\n",
    "            }\n",
    "        }\n",
    "        return -1;\n",
    "    }\n",
    "}\n",
    "public class Tester {\n",
    "    public static void main(String[] args) {\n",
    "        System.out.println(StringSearch.indexOf('a', \"banana\"));\n",
    "        System.out.println(StringSearch.indexOf(\"ana\", \"banana\"));\n",
    "        System.out.println(StringSearch.indexOf(\"dog\", \"banana\"));\n",
    "    }\n",
    "}\n"
   ]
  },
  {
   "cell_type": "code",
   "execution_count": 23,
   "id": "58c31996",
   "metadata": {},
   "outputs": [
    {
     "name": "stdout",
     "output_type": "stream",
     "text": [
      "1\n",
      "1\n",
      "-1\n"
     ]
    }
   ],
   "source": [
    "Tester.main(null);"
   ]
  },
  {
   "cell_type": "code",
   "execution_count": 24,
   "id": "b7b73b04",
   "metadata": {},
   "outputs": [],
   "source": [
    "public class ClampUtils {\n",
    "\n",
    "    /** Returns value clamped to [low, high] for integers. */\n",
    "    public static int clamp(int value, int low, int high) {\n",
    "        if (low > high) {\n",
    "            int temp = low;\n",
    "            low = high;\n",
    "            high = temp;\n",
    "        }\n",
    "        if (value < low) return low;\n",
    "        if (value > high) return high;\n",
    "        return value;\n",
    "    }\n",
    "\n",
    "    /** Returns value clamped to [low, high] for doubles. */\n",
    "    public static double clamp(double value, double low, double high) {\n",
    "        if (low > high) {\n",
    "            double temp = low;\n",
    "            low = high;\n",
    "            high = temp;\n",
    "        }\n",
    "        if (value < low) return low;\n",
    "        if (value > high) return high;\n",
    "        return value;\n",
    "    }\n",
    "}\n",
    "public class ClampTester {\n",
    "    public static void main(String[] args) {\n",
    "        System.out.println(ClampUtils.clamp(12, 5, 10));      // 10\n",
    "        System.out.println(ClampUtils.clamp(3, 5, 10));       // 5\n",
    "        System.out.println(ClampUtils.clamp(7.5, 5.0, 10.0)); // 7.5\n",
    "        System.out.println(ClampUtils.clamp(9.0, 12.0, 5.0)); // 9.0 (swapped)\n",
    "    }\n",
    "}\n"
   ]
  },
  {
   "cell_type": "code",
   "execution_count": 25,
   "id": "660397c8",
   "metadata": {},
   "outputs": [
    {
     "name": "stdout",
     "output_type": "stream",
     "text": [
      "10\n",
      "5\n",
      "7.5\n",
      "9.0\n"
     ]
    }
   ],
   "source": [
    "ClampTester.main(null);"
   ]
  }
 ],
 "metadata": {
  "kernelspec": {
   "display_name": "Java",
   "language": "java",
   "name": "java"
  },
  "language_info": {
   "codemirror_mode": "java",
   "file_extension": ".jshell",
   "mimetype": "text/x-java-source",
   "name": "java",
   "pygments_lexer": "java",
   "version": "17.0.16+8-Ubuntu-0ubuntu122.04.1"
  }
 },
 "nbformat": 4,
 "nbformat_minor": 5
}
