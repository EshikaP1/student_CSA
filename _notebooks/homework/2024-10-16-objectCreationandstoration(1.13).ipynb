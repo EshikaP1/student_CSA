{
 "cells": [
  {
   "cell_type": "markdown",
   "id": "738a1809",
   "metadata": {},
   "source": [
    "---\n",
    "layout: post\n",
    "title: Java compound assignment\n",
    "description: compound assignment\n",
    "comments: true\n",
    "permalink: /csa/unit_01/1_13\n",
    "author: Eshika\n",
    "---"
   ]
  },
  {
   "cell_type": "markdown",
   "id": "13a4c65f",
   "metadata": {},
   "source": [
    "## Popcorn Hack 1"
   ]
  },
  {
   "cell_type": "code",
   "execution_count": 11,
   "id": "27ad870e",
   "metadata": {
    "vscode": {
     "languageId": "java"
    }
   },
   "outputs": [
    {
     "name": "stdout",
     "output_type": "stream",
     "text": [
      "Before birthday: John is 20\n",
      "Inside method: John is now 21\n",
      "After birthday: John is 21\n",
      "\n",
      "Before reassign: John is 21\n",
      "Inside reassign: New Person is 99\n",
      "After reassign: John is 21\n"
     ]
    }
   ],
   "source": [
    "public class PersonDemo {\n",
    "    static class Person {\n",
    "        String name;\n",
    "        int age;\n",
    "        \n",
    "        Person(String name, int age) {\n",
    "            this.name = name;\n",
    "            this.age = age;\n",
    "        }\n",
    "    }\n",
    "    \n",
    "    public static void haveBirthday(Person p) {\n",
    "        p.age = p.age + 1;  // Modifying object content\n",
    "        System.out.println(\"Inside method: \" + p.name + \" is now \" + p.age);\n",
    "    }\n",
    "    \n",
    "    public static void reassignPerson(Person p) {\n",
    "        p = new Person(\"New Person\", 99);  // Reassigning reference\n",
    "        System.out.println(\"Inside reassign: \" + p.name + \" is \" + p.age);\n",
    "    }\n",
    "    \n",
    "    public static void main(String[] args) {\n",
    "        Person john = new Person(\"John\", 20);\n",
    "        \n",
    "        System.out.println(\"Before birthday: \" + john.name + \" is \" + john.age);\n",
    "        haveBirthday(john);\n",
    "        System.out.println(\"After birthday: \" + john.name + \" is \" + john.age);\n",
    "        \n",
    "        System.out.println(\"\\nBefore reassign: \" + john.name + \" is \" + john.age);\n",
    "        reassignPerson(john);\n",
    "        System.out.println(\"After reassign: \" + john.name + \" is \" + john.age);\n",
    "    }\n",
    "}\n",
    "PersonDemo.main(null);"
   ]
  },
  {
   "cell_type": "markdown",
   "id": "d2e188ca",
   "metadata": {},
   "source": [
    "### Question 1  \n",
    "**After `haveBirthday(john)` is called, what is John’s age? Why?**  \n",
    "\n",
    "After `haveBirthday(john)` is called, John’s age increases by 1.  \n",
    "This happens because the `haveBirthday` method modifies the contents of the same `Person` object that `john` refers to.  \n",
    "\n",
    "Example:\n",
    "```java\n",
    "public static void haveBirthday(Person p) {\n",
    "    p.age++;\n",
    "}\n",
    "Both john in main and the parameter p in haveBirthday refer to the same object in the heap.\n",
    "Changing the age field through p also changes john.age, since they point to the same memory location."
   ]
  },
  {
   "cell_type": "markdown",
   "id": "69d90849",
   "metadata": {},
   "source": [
    "### Question 2 \n",
    "**After reassignPerson(john) is called, what is John’s name and age? Why?** \n",
    "\n",
    "After reassignPerson(john) is called, John’s name and age stay the same.\n",
    "\n",
    "Example:\n",
    "\n",
    "public static void reassignPerson(Person p) {\n",
    "    p = new Person(\"NewName\", 0);\n",
    "}\n",
    "\n",
    "\n",
    "This method reassigns the parameter p to point to a new Person object, but this reassignment only affects the local variable inside the method.\n",
    "The variable john in main still points to the original Person object in memory, so its data remains unchanged."
   ]
  },
  {
   "cell_type": "markdown",
   "id": "65e8cac9",
   "metadata": {
    "vscode": {
     "languageId": "java"
    }
   },
   "source": [
    "### Explain the difference between modifying an object’s contents vs. reassigning a reference.\n",
    "\n",
    "| Action                | What It Does                                                               | Effect Outside Method                                                                |\n",
    "| --------------------- | -------------------------------------------------------------------------- | ------------------------------------------------------------------------------------ |\n",
    "| Modifying contents    | Changes the fields (like `age` or `name`) inside the same heap object.     | Affects the original object, since all references point to the same memory location. |\n",
    "| Reassigning reference | Makes the local variable point to a new object (different memory address). | Does not affect the original reference outside the method.                           |\n"
   ]
  },
  {
   "cell_type": "markdown",
   "id": "119cfbd6",
   "metadata": {},
   "source": [
    "## Popcorn Hack 2"
   ]
  },
  {
   "cell_type": "code",
   "execution_count": 12,
   "id": "1bcfeb41",
   "metadata": {
    "vscode": {
     "languageId": "java"
    }
   },
   "outputs": [
    {
     "name": "stdout",
     "output_type": "stream",
     "text": [
      "Name: Nora, Grade: 111, GPA: 5.0\n",
      "Name: Soni, Grade: 11, GPA: 1.0\n"
     ]
    }
   ],
   "source": [
    "// Basics:\n",
    "public class Student {\n",
    "    private String name;\n",
    "    private int grade;\n",
    "    private double gpa;\n",
    "    \n",
    "    // Default constructor\n",
    "    public Student() {\n",
    "        this.name = \"Nora\";\n",
    "        this.grade = 111;\n",
    "        this.gpa = 5.0;\n",
    "    }\n",
    "    \n",
    "    // Parameterized constructor\n",
    "    public Student(String name, int grade, double gpa) {\n",
    "        this.name = name;\n",
    "        this.grade = grade;\n",
    "        this.gpa = gpa;\n",
    "    }\n",
    "    \n",
    "    public void display() {\n",
    "        System.out.println(\"Name: \" + name + \", Grade: \" + grade + \", GPA: \" + gpa);\n",
    "    }\n",
    "    \n",
    "    public static void main(String[] args) {\n",
    "        Student s1 = new Student();\n",
    "        Student s2 = new Student(\"Soni\", 11, 1.0);\n",
    "        \n",
    "        s1.display();\n",
    "        s2.display();\n",
    "    }\n",
    "}\n",
    "\n",
    "Student.main(null);"
   ]
  },
  {
   "cell_type": "markdown",
   "id": "a5e4b778",
   "metadata": {},
   "source": [
    "## Question 1: Why does changing b not affect a, but changing array2 affects array1?\n",
    "\n",
    "Changing b does not affect a because primitive variables (like int) store their actual values directly on the stack. When you write int b = a;, a copy of the value in a is made, so the two variables are completely independent.\n",
    "\n",
    "However, array1 and array2 are reference variables that store a memory address pointing to the same array object in the heap. When you change array2[0], you’re modifying the data stored in that shared heap object — so array1 reflects the same change."
   ]
  },
  {
   "cell_type": "markdown",
   "id": "4c40bd3b",
   "metadata": {
    "vscode": {
     "languageId": "java"
    }
   },
   "source": [
    "## Question 2: What’s on the stack vs. the heap for this code?\n",
    "\n",
    "Stack:\n",
    "\n",
    "- The local primitive variables a and b (each with their own integer values).\n",
    "\n",
    "- The reference variables array1 and array2 (each storing the memory address of the same array object).\n",
    "\n",
    "Heap:\n",
    "\n",
    "- The actual array {1, 2, 3} that both array1 and array2 reference.\n",
    "\n",
    "- When you modify array2[0] = 99, you’re changing the object on the heap, not the stack reference."
   ]
  },
  {
   "cell_type": "markdown",
   "id": "a2994c65",
   "metadata": {},
   "source": [
    "## Homework Hack 1"
   ]
  },
  {
   "cell_type": "code",
   "execution_count": 5,
   "id": "8fd08e62",
   "metadata": {
    "vscode": {
     "languageId": "java"
    }
   },
   "outputs": [],
   "source": [
    "// Homework Hack #1: Object Creation Practice\n",
    "// Work by Eshika Pallapotu\n",
    "\n",
    "public class ObjectCreation {\n",
    "    public static void main(String[] args) {\n",
    "        // Create two Laptop objects using 'new'\n",
    "        Laptop laptop1 = new Laptop(\"MacBook Pro\", 2023);\n",
    "        Laptop laptop2 = new Laptop(\"Dell XPS\", 2021);\n",
    "\n",
    "        // Print each laptop's info\n",
    "        System.out.println(laptop1);\n",
    "        System.out.println(laptop2);\n",
    "    }\n",
    "}\n",
    "\n",
    "class Laptop {\n",
    "    private String model;\n",
    "    private int year;\n",
    "\n",
    "    // Constructor\n",
    "    public Laptop(String model, int year) {\n",
    "        this.model = model;\n",
    "        this.year = year;\n",
    "    }\n",
    "\n",
    "    // Method to display laptop info\n",
    "    public String toString() {\n",
    "        return \"Laptop Model: \" + model + \" | Release Year: \" + year;\n",
    "    }\n",
    "}\n"
   ]
  },
  {
   "cell_type": "code",
   "execution_count": 6,
   "id": "11ae8e5b",
   "metadata": {
    "vscode": {
     "languageId": "java"
    }
   },
   "outputs": [
    {
     "name": "stdout",
     "output_type": "stream",
     "text": [
      "Laptop Model: MacBook Pro | Release Year: 2023\n",
      "Laptop Model: Dell XPS | Release Year: 2021\n"
     ]
    }
   ],
   "source": [
    "ObjectCreation.main(null);\n"
   ]
  },
  {
   "cell_type": "markdown",
   "id": "55b0b8ae",
   "metadata": {},
   "source": [
    "## Homework Hack 2"
   ]
  },
  {
   "cell_type": "code",
   "execution_count": 7,
   "id": "d2a8f604",
   "metadata": {
    "vscode": {
     "languageId": "java"
    }
   },
   "outputs": [],
   "source": [
    "// Homework Hack #2: Heap vs Stack Storage Demo\n",
    "// Work by Eshika Pallapotu\n",
    "\n",
    "public class HeapVsStack {\n",
    "    public static void main(String[] args) {\n",
    "        // Primitive variable\n",
    "        double temperature = 98.6;\n",
    "\n",
    "        // Copy of primitive variable\n",
    "        double tempCopy = temperature;\n",
    "\n",
    "        // Object variable\n",
    "        Journal j1 = new Journal(\"AI Research Notes\");\n",
    "\n",
    "        // Copy of reference (points to same object)\n",
    "        Journal j2 = j1;\n",
    "\n",
    "        // Modify the original primitive and object\n",
    "        temperature = 101.4;\n",
    "        j1.title = \"Updated AI Journal\";\n",
    "\n",
    "        // Print comparison results\n",
    "        System.out.println(\"=== Primitive Variables ===\");\n",
    "        System.out.println(\"temperature = \" + temperature);\n",
    "        System.out.println(\"tempCopy = \" + tempCopy);\n",
    "\n",
    "        System.out.println(\"\\n=== Object References ===\");\n",
    "        System.out.println(\"j1 = \" + j1);\n",
    "        System.out.println(\"j2 = \" + j2);\n",
    "    }\n",
    "}\n",
    "\n",
    "class Journal {\n",
    "    String title;\n",
    "\n",
    "    public Journal(String title) {\n",
    "        this.title = title;\n",
    "    }\n",
    "\n",
    "    public String toString() {\n",
    "        return \"Journal Title: \" + title;\n",
    "    }\n",
    "}\n"
   ]
  },
  {
   "cell_type": "code",
   "execution_count": 8,
   "id": "26989792",
   "metadata": {
    "vscode": {
     "languageId": "java"
    }
   },
   "outputs": [
    {
     "name": "stdout",
     "output_type": "stream",
     "text": [
      "=== Primitive Variables ===\n",
      "temperature = 101.4\n",
      "tempCopy = 98.6\n",
      "\n",
      "=== Object References ===\n",
      "j1 = Journal Title: Updated AI Journal\n",
      "j2 = Journal Title: Updated AI Journal\n"
     ]
    }
   ],
   "source": [
    "HeapVsStack.main(null);"
   ]
  }
 ],
 "metadata": {
  "kernelspec": {
   "display_name": "Java",
   "language": "java",
   "name": "java"
  },
  "language_info": {
   "codemirror_mode": "java",
   "file_extension": ".jshell",
   "mimetype": "text/x-java-source",
   "name": "Java",
   "pygments_lexer": "java",
   "version": "17.0.16+8-Ubuntu-0ubuntu122.04.1"
  }
 },
 "nbformat": 4,
 "nbformat_minor": 5
}
