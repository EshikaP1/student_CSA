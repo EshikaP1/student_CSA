{
 "cells": [
  {
   "cell_type": "code",
   "execution_count": null,
   "id": "d2630e03",
   "metadata": {
    "vscode": {
     "languageId": "java"
    }
   },
   "outputs": [],
   "source": [
    "---\n",
    "layout: post\n",
    "title: Java compound assignment\n",
    "description: compound assignment\n",
    "comments: true\n",
    "permalink: /csa/unit_01/1_6\n",
    "author: Eshika\n",
    "---"
   ]
  },
  {
   "cell_type": "markdown",
   "id": "daf94d9b",
   "metadata": {},
   "source": [
    "Popcorn hack 1"
   ]
  },
  {
   "cell_type": "code",
   "execution_count": 1,
   "metadata": {
    "vscode": {
     "languageId": "java"
    }
   },
   "outputs": [
    {
     "data": {
      "text/plain": [
       "68"
      ]
     },
     "execution_count": 1,
     "metadata": {},
     "output_type": "execute_result"
    }
   ],
   "source": [
    "int playerScore = 1000;\n",
    "int playerHealth = 100;\n",
    "int enemiesDefeated = 0;\n",
    "\n",
    "// Player defeats an enemy worth 250 points\n",
    "playerScore += 250;\n",
    "\n",
    "// Player takes 15 damage\n",
    "playerHealth -= 15;\n",
    "\n",
    "// Enemy count goes up\n",
    "enemiesDefeated += 1;\n",
    "\n",
    "// Boss battle: double the current score!\n",
    "playerScore *= 2;\n",
    "\n",
    "// Healing potion restores health to 80% of current\n",
    "playerHealth *= 4;\n",
    "playerHealth /= 5;  // integer math equivalent of multiplying by 0.8\n"
   ]
  },
  {
   "cell_type": "markdown",
   "id": "f4f657ea",
   "metadata": {},
   "source": [
    "Popcorn Hack 2"
   ]
  },
  {
   "cell_type": "code",
   "execution_count": 3,
   "id": "4f8985a6",
   "metadata": {
    "vscode": {
     "languageId": "java"
    }
   },
   "outputs": [
    {
     "name": "stdout",
     "output_type": "stream",
     "text": [
      "Starting score: 100\n",
      "After wrong answer (-= 25): 75\n",
      "After power-up (*= 2): 150\n",
      "After dividing by 7 (%= 7): 3\n"
     ]
    }
   ],
   "source": [
    "public class PopcornHack2 {\n",
    "    public static void main(String[] args) {\n",
    "        int score = 100;\n",
    "        System.out.println(\"Starting score: \" + score);\n",
    "        \n",
    "        // Deduct points for a wrong answer\n",
    "        score -= 25;\n",
    "        System.out.println(\"After wrong answer (-= 25): \" + score);\n",
    "        \n",
    "        // Double the score with a power-up\n",
    "        score *= 2;\n",
    "        System.out.println(\"After power-up (*= 2): \" + score);\n",
    "        \n",
    "        // Find remainder after dividing by 7\n",
    "        score %= 7;\n",
    "        System.out.println(\"After dividing by 7 (%= 7): \" + score);\n",
    "    }\n",
    "}\n",
    "PopcornHack2.main(null);"
   ]
  },
  {
   "cell_type": "markdown",
   "id": "402bcc8e",
   "metadata": {},
   "source": [
    "HW"
   ]
  },
  {
   "cell_type": "code",
   "execution_count": 7,
   "id": "8c70b827",
   "metadata": {
    "vscode": {
     "languageId": "java"
    }
   },
   "outputs": [
    {
     "name": "stdout",
     "output_type": "stream",
     "text": [
      " Fitness Progress Tracker \n",
      "Starting totalCalories: 0\n",
      "Starting stepCount: 5000\n",
      "Starting workoutDays: 3\n",
      "Starting weightGoalProgress: 10\n",
      "-----------------------------------------\n",
      "After eating lunch (+= 600): totalCalories = 600\n",
      "After workout (-= 300): totalCalories = 300\n",
      "After an active day (*= 2): stepCount = 10000\n",
      "Average steps per day over a week (/= 7): stepCount = 1428\n",
      "Remaining weekly progress (%= 7): weightGoalProgress = 3\n",
      "Added one more workout (++): workoutDays = 4\n",
      "-----------------------------------------\n",
      " End of fitness tracking simulation!\n"
     ]
    }
   ],
   "source": [
    "public class FitnessProgressTracker {\n",
    "    public static void main(String[] args) {\n",
    "        // Starting values\n",
    "        int totalCalories = 0;     // total calories consumed minus burned\n",
    "        int stepCount = 5000;      // steps walked today\n",
    "        int workoutDays = 3;       // number of days exercised this week\n",
    "        int weightGoalProgress = 10; // pounds left to reach target weight\n",
    "        \n",
    "        System.out.println(\" Fitness Progress Tracker \");\n",
    "        System.out.println(\"Starting totalCalories: \" + totalCalories);\n",
    "        System.out.println(\"Starting stepCount: \" + stepCount);\n",
    "        System.out.println(\"Starting workoutDays: \" + workoutDays);\n",
    "        System.out.println(\"Starting weightGoalProgress: \" + weightGoalProgress);\n",
    "        System.out.println(\"-----------------------------------------\");\n",
    "        \n",
    "        // Add calories from meals (+)\n",
    "        totalCalories += 600;  // Ate lunch\n",
    "        System.out.println(\"After eating lunch (+= 600): totalCalories = \" + totalCalories);\n",
    "        \n",
    "        // Burn calories from exercise (-)\n",
    "        totalCalories -= 300;  // Burned calories during a workout\n",
    "        System.out.println(\"After workout (-= 300): totalCalories = \" + totalCalories);\n",
    "        \n",
    "        // Double steps from an extra-active day (*)\n",
    "        stepCount *= 2;  \n",
    "        System.out.println(\"After an active day (*= 2): stepCount = \" + stepCount);\n",
    "        \n",
    "        // Calculate average daily steps (/)\n",
    "        stepCount /= 7;  \n",
    "        System.out.println(\"Average steps per day over a week (/= 7): stepCount = \" + stepCount);\n",
    "        \n",
    "        // Track weekly goal progress (%)\n",
    "        weightGoalProgress %= 7;  // Remaining progress within the week\n",
    "        System.out.println(\"Remaining weekly progress (%= 7): weightGoalProgress = \" + weightGoalProgress);\n",
    "        \n",
    "        // Increment workout days\n",
    "        workoutDays++;  \n",
    "        System.out.println(\"Added one more workout (++): workoutDays = \" + workoutDays);\n",
    "        \n",
    "        System.out.println(\"-----------------------------------------\");\n",
    "        System.out.println(\" End of fitness tracking simulation!\");\n",
    "    }\n",
    "}\n",
    "\n",
    "FitnessProgressTracker.main(null);"
   ]
  }
 ],
 "metadata": {
  "kernelspec": {
   "display_name": "Java",
   "language": "java",
   "name": "java"
  },
  "language_info": {
   "codemirror_mode": "java",
   "file_extension": ".jshell",
   "mimetype": "text/x-java-source",
   "name": "Java",
   "pygments_lexer": "java",
   "version": "17.0.16+8-Ubuntu-0ubuntu122.04.1"
  }
 },
 "nbformat": 4,
 "nbformat_minor": 5
}
