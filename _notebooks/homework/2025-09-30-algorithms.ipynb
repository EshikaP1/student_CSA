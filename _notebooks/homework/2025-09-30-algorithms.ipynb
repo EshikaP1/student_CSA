{
 "cells": [
  {
   "cell_type": "markdown",
   "id": "0135d899",
   "metadata": {},
   "source": [
    "---\n",
    "layout: post\n",
    "title: Java Algorithms\n",
    "description: Algorithms\n",
    "comments: true\n",
    "permalink: /csa/unit_01/1_1\n",
    "author: Eshika\n",
    "---"
   ]
  },
  {
   "cell_type": "markdown",
   "id": "608a3f3b",
   "metadata": {},
   "source": [
    "HOMEWORK"
   ]
  },
  {
   "cell_type": "code",
   "execution_count": null,
   "id": "2fd78ac1",
   "metadata": {
    "vscode": {
     "languageId": "plaintext"
    }
   },
   "outputs": [],
   "source": [
    "Algorithm:\n",
    "\n",
    "Wash your hands and clean the workspace.\n",
    "\n",
    "Gather all ingredients (flour, yeast, water, salt, sugar, olive oil, cheese, sauce, toppings).\n",
    "\n",
    "Mix warm water, yeast, and sugar in a bowl and let it sit for 5–10 minutes until foamy.\n",
    "\n",
    "Add flour, salt, and olive oil to the yeast mixture and knead into dough for 8–10 minutes.\n",
    "\n",
    "Place the dough in a greased bowl, cover it, and let it rise for 1–2 hours.\n",
    "\n",
    "Preheat the oven to 475°F (245°C).\n",
    "\n",
    "Roll out the dough into a circle and place it on a pizza pan.\n",
    "\n",
    "Spread tomato sauce evenly on the dough.\n",
    "\n",
    "Sprinkle cheese over the sauce and add chosen toppings.\n",
    "\n",
    "Bake the pizza for 12–15 minutes until crust is golden and cheese is melted.\n",
    "\n",
    "Remove from oven, cool slightly, slice, and serve."
   ]
  },
  {
   "cell_type": "markdown",
   "id": "83b1cf9a",
   "metadata": {},
   "source": [
    "Given Algorithm (buggy):\n",
    "\n",
    "- Click \"Send\"\n",
    "- Open email application\n",
    "- Type the message\n",
    "- Log into your account\n",
    "- Enter recipient's email address\n",
    "- Write subject line\n",
    "\n",
    "Corrected Algorithm: Send an Email\n",
    "\n",
    "- Open the email application.\n",
    "- Log into your account.\n",
    "- Enter recipient’s email address.\n",
    "- Write the subject line.\n",
    "- Type the message.\n",
    "- Click \"Send.\""
   ]
  },
  {
   "cell_type": "code",
   "execution_count": null,
   "id": "0d68bbf6",
   "metadata": {
    "vscode": {
     "languageId": "plaintext"
    }
   },
   "outputs": [],
   "source": []
  }
 ],
 "metadata": {
  "language_info": {
   "name": "python"
  }
 },
 "nbformat": 4,
 "nbformat_minor": 5
}
