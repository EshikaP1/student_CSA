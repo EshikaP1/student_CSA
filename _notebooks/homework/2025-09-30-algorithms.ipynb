{
 "cells": [
  {
   "cell_type": "markdown",
   "id": "0135d899",
   "metadata": {},
   "source": [
    "---\n",
    "layout: post\n",
    "title: Java Algorithms\n",
    "description: Algorithms\n",
    "comments: true\n",
    "permalink: /csa/unit_01/1_1\n",
    "author: Eshika\n",
    "---"
   ]
  },
  {
   "cell_type": "markdown",
   "id": "608a3f3b",
   "metadata": {},
   "source": [
    "HOMEWORK"
   ]
  },
  {
   "cell_type": "code",
   "execution_count": null,
   "id": "2fd78ac1",
   "metadata": {},
   "outputs": [],
   "source": [
    "Algorithm:\n",
    "\n",
    "Wash your hands and clean the workspace.\n",
    "\n",
    "Gather all ingredients (flour, yeast, water, salt, sugar, olive oil, cheese, sauce, toppings).\n",
    "\n",
    "Mix warm water, yeast, and sugar in a bowl and let it sit for 5–10 minutes until foamy.\n",
    "\n",
    "Add flour, salt, and olive oil to the yeast mixture and knead into dough for 8–10 minutes.\n",
    "\n",
    "Place the dough in a greased bowl, cover it, and let it rise for 1–2 hours.\n",
    "\n",
    "Preheat the oven to 475°F (245°C).\n",
    "\n",
    "Roll out the dough into a circle and place it on a pizza pan.\n",
    "\n",
    "Spread tomato sauce evenly on the dough.\n",
    "\n",
    "Sprinkle cheese over the sauce and add chosen toppings.\n",
    "\n",
    "Bake the pizza for 12–15 minutes until crust is golden and cheese is melted.\n",
    "\n",
    "Remove from oven, cool slightly, slice, and serve."
   ]
  },
  {
   "cell_type": "markdown",
   "id": "83b1cf9a",
   "metadata": {},
   "source": [
    "Given Algorithm (buggy):\n",
    "\n",
    "- Click \"Send\"\n",
    "- Open email application\n",
    "- Type the message\n",
    "- Log into your account\n",
    "- Enter recipient's email address\n",
    "- Write subject line\n",
    "\n",
    "Corrected Algorithm: Send an Email\n",
    "\n",
    "- Open the email application.\n",
    "- Log into your account.\n",
    "- Enter recipient’s email address.\n",
    "- Write the subject line.\n",
    "- Type the message.\n",
    "- Click \"Send.\""
   ]
  },
  {
   "cell_type": "code",
   "execution_count": 1,
   "id": "0d68bbf6",
   "metadata": {},
   "outputs": [],
   "source": [
    "public class GradeCalculator {\n",
    "\n",
    "    // Method to calculate grade\n",
    "    public static String calculateGrade(int score1, int score2, int score3) {\n",
    "        // Step 1: Add the three scores together\n",
    "        int total = score1 + score2 + score3;\n",
    "\n",
    "        // Step 2: Calculate the average\n",
    "        double average = total / 3.0;\n",
    "\n",
    "        // Step 3: Determine the letter grade\n",
    "        if (average >= 90) {\n",
    "            return \"A\";\n",
    "        } else if (average >= 80) {\n",
    "            return \"B\";\n",
    "        } else if (average >= 70) {\n",
    "            return \"C\";\n",
    "        } else if (average >= 60) {\n",
    "            return \"D\";\n",
    "        } else {\n",
    "            return \"F\";\n",
    "        }\n",
    "    }\n",
    "\n",
    "    // Main method to test the function\n",
    "    public static void main(String[] args) {\n",
    "        System.out.println(\"Test 1: \" + calculateGrade(95, 92, 88)); // Should be A\n",
    "        System.out.println(\"Test 2: \" + calculateGrade(85, 80, 82)); // Should be B\n",
    "        System.out.println(\"Test 3: \" + calculateGrade(75, 70, 72)); // Should be C\n",
    "        System.out.println(\"Test 4: \" + calculateGrade(65, 60, 62)); // Should be D\n",
    "        System.out.println(\"Test 5: \" + calculateGrade(55, 50, 52)); // Should be F\n",
    "    }\n",
    "}\n"
   ]
  },
  {
   "cell_type": "code",
   "execution_count": 2,
   "id": "1b14b27f",
   "metadata": {},
   "outputs": [
    {
     "name": "stdout",
     "output_type": "stream",
     "text": [
      "Test 1: A\n",
      "Test 2: B\n",
      "Test 3: C\n",
      "Test 4: D\n",
      "Test 5: F\n"
     ]
    }
   ],
   "source": [
    "GradeCalculator.main(null);"
   ]
  }
 ],
 "metadata": {
  "kernelspec": {
   "display_name": "Java",
   "language": "java",
   "name": "java"
  },
  "language_info": {
   "codemirror_mode": "java",
   "file_extension": ".jshell",
   "mimetype": "text/x-java-source",
   "name": "java",
   "pygments_lexer": "java",
   "version": "17.0.16+8-Ubuntu-0ubuntu122.04.1"
  }
 },
 "nbformat": 4,
 "nbformat_minor": 5
}
