{
 "cells": [
  {
   "cell_type": "markdown",
   "id": "88e1e021",
   "metadata": {},
   "source": [
    "---\n",
    "layout: post\n",
    "title: Java Variables\n",
    "description: variables\n",
    "comments: true\n",
    "permalink: /csa/unit_01/1_5\n",
    "author: Eshika\n",
    "---"
   ]
  },
  {
   "cell_type": "code",
   "execution_count": null,
   "id": "fd6417d7",
   "metadata": {},
   "outputs": [],
   "source": [
    "frq1"
   ]
  },
  {
   "cell_type": "code",
   "execution_count": null,
   "id": "4beba17e",
   "metadata": {},
   "outputs": [],
   "source": [
    "public static double avgInt(int a, int b) {\n",
    "    return (a + b) / 2.0; // divide by 2.0 to ensure double precision\n",
    "}\n"
   ]
  },
  {
   "cell_type": "markdown",
   "metadata": {},
   "source": [
    "frq2"
   ]
  },
  {
   "cell_type": "code",
   "execution_count": null,
   "metadata": {},
   "outputs": [],
   "source": [
    "public static double percent(int correct, int total) {\n",
    "    if (total == 0) return 0.0; // avoid division by zero\n",
    "    return (correct * 100.0) / total; // multiply by 100.0 for percent as double\n",
    "}\n"
   ]
  },
  {
   "cell_type": "markdown",
   "metadata": {},
   "source": [
    "frq 3"
   ]
  },
  {
   "cell_type": "code",
   "execution_count": null,
   "metadata": {},
   "outputs": [],
   "source": [
    "public static int safeMod(int a, int b) {\n",
    "    if (b == 0) return 0; // handle division by zero safely\n",
    "    return a % b;\n",
    "}\n"
   ]
  }
 ],
 "metadata": {
  "kernelspec": {
   "display_name": "Java",
   "language": "java",
   "name": "java"
  },
  "language_info": {
   "name": "java"
  }
 },
 "nbformat": 4,
 "nbformat_minor": 5
}
