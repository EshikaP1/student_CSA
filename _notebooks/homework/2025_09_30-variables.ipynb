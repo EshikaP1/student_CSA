{
 "cells": [
  {
   "cell_type": "markdown",
   "id": "4e9a601a",
   "metadata": {},
   "source": [
    "---\n",
    "title: Variables\n",
    "comments: true\n",
    "layout: post\n",
    "permalink: /unit1variables\n",
    "description: variables\n",
    "author: Eshika\n",
    "---"
   ]
  },
  {
   "cell_type": "markdown",
   "id": "49035ac7",
   "metadata": {
    "vscode": {
     "languageId": "plaintext"
    }
   },
   "source": [
    "\n",
    "## 🍿 [Popcorn Hack] Practice #1: Your Favorite Things\n",
    "\n",
    "**Make variables for your favorite things:**\n",
    "\n",
    "1. Your favorite food (text)\n",
    "2. Your age (whole number)\n",
    "3. Your height in feet (decimal)\n",
    "4. Do you like pizza? (True/False)\n",
    "5. First letter of your favorite color\n",
    "6. Your birth year (this never changes... what type of variable will you make it??)"
   ]
  },
  {
   "cell_type": "code",
   "execution_count": 4,
   "id": "e07f491d",
   "metadata": {
    "vscode": {
     "languageId": "java"
    }
   },
   "outputs": [],
   "source": [
    "public class FavoriteThings {\n",
    "    public static void main(String[] args) {\n",
    "        // 1. Favorite food (String / text)\n",
    "        String favoriteFood = \"Pasta\";\n",
    "\n",
    "        // 2. Age (integer / whole number)\n",
    "        int age = 17;\n",
    "\n",
    "        // 3. Height in feet (decimal / double)\n",
    "        double heightFeet = 5.4;\n",
    "\n",
    "        // 4. Do you like pizza? (boolean)\n",
    "        boolean likesPizza = true;\n",
    "\n",
    "        // 5. First letter of favorite color (char)\n",
    "        char favoriteColorInitial = 'B'; // For Blue\n",
    "\n",
    "        // 6. Birth year (constant → use final keyword in Java)\n",
    "        final int BIRTH_YEAR = 2008;\n",
    "\n",
    "        // Print them out\n",
    "        System.out.println(\"Favorite food: \" + favoriteFood);\n",
    "        System.out.println(\"Age: \" + age);\n",
    "        System.out.println(\"Height (ft): \" + heightFeet);\n",
    "        System.out.println(\"Likes pizza: \" + likesPizza);\n",
    "        System.out.println(\"Favorite color initial: \" + favoriteColorInitial);\n",
    "        System.out.println(\"Birth year: \" + BIRTH_YEAR);\n",
    "    }\n",
    "}\n"
   ]
  },
  {
   "cell_type": "code",
   "execution_count": 5,
   "id": "9d3c01db",
   "metadata": {
    "vscode": {
     "languageId": "java"
    }
   },
   "outputs": [
    {
     "name": "stdout",
     "output_type": "stream",
     "text": [
      "Favorite food: Pasta\n",
      "Age: 17\n",
      "Height (ft): 5.4\n",
      "Likes pizza: true\n",
      "Favorite color initial: B\n",
      "Birth year: 2008\n"
     ]
    }
   ],
   "source": [
    "FavoriteThings.main(null);\n"
   ]
  },
  {
   "cell_type": "markdown",
   "id": "49172ea0",
   "metadata": {
    "vscode": {
     "languageId": "javascript"
    }
   },
   "source": [
    "---\n",
    "\n",
    "## 🍿 [Popcorn Hack] Practice #2: Pick the Best Type\n",
    "\n",
    "**What type should you use for each of these?**\n",
    "\n",
    "1. Number of siblings\n",
    "2. Your first name\n",
    "3. Are you hungry?\n",
    "4. Your favorite letter\n",
    "5. Your height in inches\n",
    "6. Number of days in a year (never changes)\n",
    "\n",
    "**Think about it, then check below!**"
   ]
  },
  {
   "cell_type": "code",
   "execution_count": 2,
   "id": "e5d23715",
   "metadata": {
    "vscode": {
     "languageId": "java"
    }
   },
   "outputs": [],
   "source": [
    "public class PickTheBestType {\n",
    "    public static void main(String[] args) {\n",
    "        // 1. Number of siblings → whole number → int\n",
    "        int siblings = 1;\n",
    "\n",
    "        // 2. Your first name → text/string\n",
    "        String firstName = \"Eshika\";\n",
    "\n",
    "        // 3. Are you hungry? → true/false → boolean\n",
    "        boolean isHungry = true;\n",
    "\n",
    "        // 4. Your favorite letter → single character → char\n",
    "        char favoriteLetter = 'E';\n",
    "\n",
    "        // 5. Your height in inches → can have decimals → double\n",
    "        double heightInches = 64.5;\n",
    "\n",
    "        // 6. Number of days in a year (never changes) → constant int\n",
    "        final int DAYS_IN_YEAR = 365;\n",
    "\n",
    "        // Print them out\n",
    "        System.out.println(\"Siblings: \" + siblings);\n",
    "        System.out.println(\"First Name: \" + firstName);\n",
    "        System.out.println(\"Hungry? \" + isHungry);\n",
    "        System.out.println(\"Favorite Letter: \" + favoriteLetter);\n",
    "        System.out.println(\"Height (in): \" + heightInches);\n",
    "        System.out.println(\"Days in a Year: \" + DAYS_IN_YEAR);\n",
    "    }\n",
    "}\n"
   ]
  },
  {
   "cell_type": "code",
   "execution_count": 6,
   "id": "2a74abe7",
   "metadata": {
    "vscode": {
     "languageId": "java"
    }
   },
   "outputs": [
    {
     "name": "stdout",
     "output_type": "stream",
     "text": [
      "Siblings: 1\n",
      "First Name: Eshika\n",
      "Hungry? true\n",
      "Favorite Letter: E\n",
      "Height (in): 64.5\n",
      "Days in a Year: 365\n"
     ]
    }
   ],
   "source": [
    "PickTheBestType.main(null);\n"
   ]
  },
  {
   "cell_type": "markdown",
   "id": "23ae55fa",
   "metadata": {
    "vscode": {
     "languageId": "javascript"
    }
   },
   "source": [
    "---\n",
    "\n",
    "## 🏠 Homework Hack: Simple Grade Calculator\n",
    "\n",
    "**Make a program that calculates a student's grade:**\n",
    "\n",
    "### What you need to store:\n",
    "1. Student's name (make this final)\n",
    "2. Three test scores (whole numbers 0-100)\n",
    "4. The class name (make this final)\n",
    "\n",
    "### What to calculate:\n",
    "- Average of the three test scores\n",
    "- Show what letter grade they earned"
   ]
  },
  {
   "cell_type": "code",
   "execution_count": 3,
   "id": "39aa81cd",
   "metadata": {
    "vscode": {
     "languageId": "java"
    }
   },
   "outputs": [],
   "source": [
    "public class GradeCalculator {\n",
    "    public static void main(String[] args) {\n",
    "        // 🔹 Store information\n",
    "        final String studentName = \"Eshika\";  // student's name (final)\n",
    "        final String className = \"Biology\";   // class name (final)\n",
    "\n",
    "        int test1 = 92;  // test scores (0–100)\n",
    "        int test2 = 85;\n",
    "        int test3 = 88;\n",
    "\n",
    "        // 🔹 Calculate average\n",
    "        double average = (test1 + test2 + test3) / 3.0;\n",
    "\n",
    "        // 🔹 Determine letter grade\n",
    "        char letterGrade;\n",
    "        if (average >= 90) {\n",
    "            letterGrade = 'A';\n",
    "        } else if (average >= 80) {\n",
    "            letterGrade = 'B';\n",
    "        } else if (average >= 70) {\n",
    "            letterGrade = 'C';\n",
    "        } else if (average >= 60) {\n",
    "            letterGrade = 'D';\n",
    "        } else {\n",
    "            letterGrade = 'F';\n",
    "        }\n",
    "\n",
    "        // 🔹 Print results\n",
    "        System.out.println(\"Class: \" + className);\n",
    "        System.out.println(\"Student: \" + studentName);\n",
    "        System.out.println(\"Scores: \" + test1 + \", \" + test2 + \", \" + test3);\n",
    "        System.out.println(\"Average: \" + average);\n",
    "        System.out.println(\"Letter Grade: \" + letterGrade);\n",
    "    }\n",
    "}\n"
   ]
  },
  {
   "cell_type": "code",
   "execution_count": 7,
   "id": "f0e46d88",
   "metadata": {
    "vscode": {
     "languageId": "java"
    }
   },
   "outputs": [
    {
     "name": "stdout",
     "output_type": "stream",
     "text": [
      "Class: Biology\n",
      "Student: Eshika\n",
      "Scores: 92, 85, 88\n",
      "Average: 88.33333333333333\n",
      "Letter Grade: B\n"
     ]
    }
   ],
   "source": [
    "GradeCalculator.main(null);"
   ]
  }
 ],
 "metadata": {
  "kernelspec": {
   "display_name": "Java",
   "language": "java",
   "name": "java"
  },
  "language_info": {
   "codemirror_mode": "java",
   "file_extension": ".jshell",
   "mimetype": "text/x-java-source",
   "name": "Java",
   "pygments_lexer": "java",
   "version": "17.0.16+8-Ubuntu-0ubuntu122.04.1"
  }
 },
 "nbformat": 4,
 "nbformat_minor": 5
}
