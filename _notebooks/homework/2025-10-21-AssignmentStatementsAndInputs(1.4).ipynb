{
 "cells": [
  {
   "cell_type": "markdown",
   "id": "15955cb1",
   "metadata": {},
   "source": [
    "---\n",
    "layout: post\n",
    "title: Java compound assignment\n",
    "description: compound assignment\n",
    "comments: true\n",
    "permalink: /csa/unit_01/1_4\n",
    "author: Eshika\n",
    "---"
   ]
  },
  {
   "cell_type": "markdown",
   "id": "3d627e95",
   "metadata": {},
   "source": [
    "## Homework Hack 1"
   ]
  },
  {
   "cell_type": "code",
   "execution_count": 1,
   "id": "abb770b9",
   "metadata": {
    "vscode": {
     "languageId": "java"
    }
   },
   "outputs": [],
   "source": [
    "import java.util.Scanner;\n",
    "\n",
    "public class ThreeNumberAverage {\n",
    "    public static void main(String[] args) {\n",
    "        Scanner input = new Scanner(System.in);\n",
    "\n",
    "        // Prompt for three integers\n",
    "        System.out.print(\"Enter the first integer: \");\n",
    "        int num1 = input.nextInt();\n",
    "\n",
    "        System.out.print(\"Enter the second integer: \");\n",
    "        int num2 = input.nextInt();\n",
    "\n",
    "        System.out.print(\"Enter the third integer: \");\n",
    "        int num3 = input.nextInt();\n",
    "\n",
    "        // Calculate average (cast to double to avoid integer division)\n",
    "        double average = (num1 + num2 + num3) / 3.0;\n",
    "\n",
    "        // Display result with two decimal places\n",
    "        System.out.printf(\"The average of the three numbers is: %.2f%n\", average);\n",
    "\n",
    "        input.close();\n",
    "    }\n",
    "}\n"
   ]
  },
  {
   "cell_type": "markdown",
   "id": "498def50",
   "metadata": {},
   "source": [
    "## Hack 2: Assignment vs Comparison Explanation\n",
    "\n",
    "In Java, the assignment operator (`=`) and the comparison operator (`==`) may look similar, but they perform very different functions.\n",
    "\n",
    "The **assignment operator (`=`)** is used to store or update a value in a variable. It places the value on the right-hand side into the variable on the left-hand side.\n",
    "\n",
    "```java\n",
    "// int score = 90;       // assigns 90 to the variable score\n",
    "// score = score + 10;   // updates score to 100\n"
   ]
  },
  {
   "cell_type": "markdown",
   "id": "7a7c736f",
   "metadata": {},
   "source": [
    "The comparison operator (==) is used to check whether two values are equal. It does not change any values; instead, it returns a boolean value (true or false).\n",
    "\n",
    "// int score = 100;\n",
    "// if (score == 100) {\n",
    "//     System.out.println(\"Perfect score!\");\n",
    "// }\n",
    "\n",
    "\n",
    "A common mistake is confusing = with == inside an if statement. Using the assignment operator instead of the comparison operator can cause an error or unexpected results.\n",
    "\n",
    "// int score = 85;\n",
    "// if (score = 100) {       // ❌ Error: using assignment instead of comparison\n",
    "//     System.out.println(\"You got a perfect score!\");\n",
    "// }\n",
    "\n",
    "\n",
    "To fix this issue, always use == when comparing values.\n",
    "\n",
    "// int score = 85;\n",
    "// if (score == 100) {      // ✅ Correct: using comparison operator\n",
    "//     System.out.println(\"You got a perfect score!\");\n",
    "// }"
   ]
  },
  {
   "cell_type": "markdown",
   "id": "45d205cb",
   "metadata": {},
   "source": [
    "| Operator | Purpose                          | Example   | Returns           | Common Mistake                       |\n",
    "| -------- | -------------------------------- | --------- | ----------------- | ------------------------------------ |\n",
    "| `=`      | Assigns a value to a variable    | `x = 10;` | No value returned | Using it in an `if` statement        |\n",
    "| `==`     | Compares two values for equality | `x == 10` | `true` or `false` | Forgetting to use `==` in conditions |\n"
   ]
  },
  {
   "cell_type": "markdown",
   "id": "0cff2416",
   "metadata": {},
   "source": [
    "Key Takeaway:\n",
    "Use = to assign values and == to compare values. Mixing them up can lead to logic or compiler errors in Java."
   ]
  }
 ],
 "metadata": {
  "kernelspec": {
   "display_name": "Java",
   "language": "java",
   "name": "java"
  },
  "language_info": {
   "codemirror_mode": "java",
   "file_extension": ".jshell",
   "mimetype": "text/x-java-source",
   "name": "Java",
   "pygments_lexer": "java",
   "version": "17.0.16+8-Ubuntu-0ubuntu122.04.1"
  }
 },
 "nbformat": 4,
 "nbformat_minor": 5
}
