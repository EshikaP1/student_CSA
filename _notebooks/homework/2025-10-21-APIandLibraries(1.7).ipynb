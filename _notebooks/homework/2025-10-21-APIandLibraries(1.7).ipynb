{
 "cells": [
  {
   "cell_type": "markdown",
   "id": "09b5f359",
   "metadata": {},
   "source": [
    "---\n",
    "layout: post\n",
    "title: Java compound assignment\n",
    "description: compound assignment\n",
    "comments: true\n",
    "permalink: /csa/unit_01/1_7\n",
    "author: Eshika\n",
    "---"
   ]
  },
  {
   "cell_type": "markdown",
   "id": "710b7280",
   "metadata": {},
   "source": [
    "## Popcorn Hack 1"
   ]
  },
  {
   "cell_type": "code",
   "execution_count": 4,
   "id": "36a3f23c",
   "metadata": {
    "vscode": {
     "languageId": "java"
    }
   },
   "outputs": [],
   "source": [
    "import java.util.ArrayList;\n",
    "\n",
    "public class PopcornHack1 {\n",
    "    public static void main(String[] args) {\n",
    "        // Calculate 3^4 using Math.pow()\n",
    "        double powerResult = Math.pow(3, 4);\n",
    "        System.out.println(\"3 raised to the power of 4 is: \" + powerResult);\n",
    "\n",
    "        // Find the square root of 64 using Math.sqrt()\n",
    "        double sqrtResult = Math.sqrt(64);\n",
    "        System.out.println(\"The square root of 64 is: \" + sqrtResult);\n",
    "\n",
    "        // Create an ArrayList of Strings\n",
    "        ArrayList<String> colors = new ArrayList<>();\n",
    "\n",
    "        // Add 3 colors to the ArrayList\n",
    "        colors.add(\"red\");\n",
    "        colors.add(\"blue\");\n",
    "        colors.add(\"green\");\n",
    "\n",
    "        // Print the size of the ArrayList\n",
    "        System.out.println(\"The ArrayList contains \" + colors.size() + \" colors: \" + colors);\n",
    "    }\n",
    "}\n"
   ]
  },
  {
   "cell_type": "markdown",
   "id": "1e67f401",
   "metadata": {},
   "source": [
    "## Popcorn Hack 2"
   ]
  },
  {
   "cell_type": "code",
   "execution_count": 3,
   "id": "ec0629e4",
   "metadata": {
    "vscode": {
     "languageId": "java"
    }
   },
   "outputs": [],
   "source": [
    "public class Book {\n",
    "    // Attributes\n",
    "    private String title;\n",
    "    private String author;\n",
    "    private int pages;\n",
    "\n",
    "    // Constructor to initialize all attributes\n",
    "    public Book(String title, String author, int pages) {\n",
    "        this.title = title;\n",
    "        this.author = author;\n",
    "        this.pages = pages;\n",
    "    }\n",
    "\n",
    "    // Method to display all book information\n",
    "    public void displayInfo() {\n",
    "        System.out.println(\"Title: \" + title);\n",
    "        System.out.println(\"Author: \" + author);\n",
    "        System.out.println(\"Pages: \" + pages);\n",
    "    }\n",
    "\n",
    "    // Method to check if the book is long\n",
    "    public boolean isLong() {\n",
    "        return pages > 300;\n",
    "    }\n",
    "\n",
    "    // Main method to test the Book class\n",
    "    public static void main(String[] args) {\n",
    "        Book myBook = new Book(\"Java Programming Essentials\", \"Ava Thompson\", 365);\n",
    "        \n",
    "        myBook.displayInfo();\n",
    "        \n",
    "        if (myBook.isLong()) {\n",
    "            System.out.println(\"This book is quite long.\");\n",
    "        } else {\n",
    "            System.out.println(\"This book is short and concise.\");\n",
    "        }\n",
    "    }\n",
    "}\n"
   ]
  },
  {
   "cell_type": "markdown",
   "id": "208bae34",
   "metadata": {},
   "source": [
    "## Homework"
   ]
  },
  {
   "cell_type": "code",
   "execution_count": 1,
   "id": "348bf6c2",
   "metadata": {
    "vscode": {
     "languageId": "java"
    }
   },
   "outputs": [],
   "source": [
    "import java.util.ArrayList;\n",
    "\n",
    "public class Phone {\n",
    "    // Attributes\n",
    "    private String brand;\n",
    "    private String model;\n",
    "    private int batteryLevel;\n",
    "    private ArrayList<String> contacts;\n",
    "\n",
    "    // Constructor\n",
    "    public Phone(String brand, String model) {\n",
    "        this.brand = brand;\n",
    "        this.model = model;\n",
    "        this.batteryLevel = 100; // starts at 100%\n",
    "        this.contacts = new ArrayList<>();\n",
    "    }\n",
    "\n",
    "    // Display phone information\n",
    "    public void displayInfo() {\n",
    "        System.out.println(\"Brand: \" + brand);\n",
    "        System.out.println(\"Model: \" + model);\n",
    "        System.out.println(\"Battery Level: \" + batteryLevel + \"%\");\n",
    "    }\n",
    "\n",
    "    // Add a contact to the contacts list\n",
    "    public void addContact(String name) {\n",
    "        contacts.add(name);\n",
    "        System.out.println(name + \" added to contacts.\");\n",
    "    }\n",
    "\n",
    "    // Show all contacts\n",
    "    public void showContacts() {\n",
    "        System.out.println(\"Contacts for \" + model + \":\");\n",
    "        if (contacts.isEmpty()) {\n",
    "            System.out.println(\"No contacts saved.\");\n",
    "        } else {\n",
    "            for (String contact : contacts) {\n",
    "                System.out.println(\"- \" + contact);\n",
    "            }\n",
    "        }\n",
    "    }\n",
    "\n",
    "    // Use the phone and decrease battery based on minutes used\n",
    "    public void usePhone(int minutes) {\n",
    "        batteryLevel -= minutes;\n",
    "        if (batteryLevel < 0) {\n",
    "            batteryLevel = 0;\n",
    "        }\n",
    "        System.out.println(\"Used phone for \" + minutes + \" minutes. Battery now at \" + batteryLevel + \"%.\");\n",
    "    }\n",
    "}\n"
   ]
  },
  {
   "cell_type": "code",
   "execution_count": 2,
   "id": "d1473863",
   "metadata": {
    "vscode": {
     "languageId": "java"
    }
   },
   "outputs": [],
   "source": [
    "public class PhoneTest {\n",
    "    public static void main(String[] args) {\n",
    "        // Create two Phone objects\n",
    "        Phone phone1 = new Phone(\"Apple\", \"iPhone 15\");\n",
    "        Phone phone2 = new Phone(\"Samsung\", \"Galaxy S24\");\n",
    "\n",
    "        // Add contacts to phone1\n",
    "        phone1.addContact(\"Liam\");\n",
    "        phone1.addContact(\"Sophia\");\n",
    "        phone1.addContact(\"Noah\");\n",
    "\n",
    "        // Add contacts to phone2\n",
    "        phone2.addContact(\"Olivia\");\n",
    "        phone2.addContact(\"Ethan\");\n",
    "        phone2.addContact(\"Ava\");\n",
    "\n",
    "        // Use the phones for some minutes\n",
    "        phone1.usePhone(25);\n",
    "        phone2.usePhone(40);\n",
    "\n",
    "        // Display all phone information and contacts\n",
    "        System.out.println(\"\\n--- Phone 1 Info ---\");\n",
    "        phone1.displayInfo();\n",
    "        phone1.showContacts();\n",
    "\n",
    "        System.out.println(\"\\n--- Phone 2 Info ---\");\n",
    "        phone2.displayInfo();\n",
    "        phone2.showContacts();\n",
    "    }\n",
    "}\n"
   ]
  }
 ],
 "metadata": {
  "kernelspec": {
   "display_name": "Java",
   "language": "java",
   "name": "java"
  },
  "language_info": {
   "codemirror_mode": "java",
   "file_extension": ".jshell",
   "mimetype": "text/x-java-source",
   "name": "Java",
   "pygments_lexer": "java",
   "version": "17.0.16+8-Ubuntu-0ubuntu122.04.1"
  }
 },
 "nbformat": 4,
 "nbformat_minor": 5
}
