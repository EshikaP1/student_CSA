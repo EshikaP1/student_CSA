{
 "cells": [
  {
   "cell_type": "markdown",
   "id": "36ed4d26",
   "metadata": {},
   "source": [
    "---\n",
    "layout: post\n",
    "title: Java compound assignment\n",
    "description: compound assignment\n",
    "comments: true\n",
    "permalink: /csa/unit_01/1_12\n",
    "author: Eshika\n",
    "---"
   ]
  },
  {
   "cell_type": "markdown",
   "id": "1dfab9c9",
   "metadata": {},
   "source": [
    " ## Popcorn Hack "
   ]
  },
  {
   "cell_type": "code",
   "execution_count": null,
   "id": "e95b977d",
   "metadata": {
    "vscode": {
     "languageId": "java"
    }
   },
   "outputs": [],
   "source": [
    "class Book {\n",
    "    String title;\n",
    "    int pages;\n",
    "    \n",
    "    void printInfo() {\n",
    "        System.out.println(\"Title: \" + title + \", Pages: \" + pages);\n",
    "    }\n",
    "}\n",
    "\n",
    "class MainPopcorn {\n",
    "    public static void main(String[] args) {\n",
    "        Book myBook = new Book();\n",
    "        myBook.title = \"Invisible Cities\";\n",
    "        myBook.pages = 165;\n",
    "        myBook.printInfo();\n",
    "    }\n",
    "}\n"
   ]
  },
  {
   "cell_type": "markdown",
   "id": "6dfcd56a",
   "metadata": {},
   "source": [
    "## Quick Self-Check\n",
    "\n",
    "- A class is a blueprint that defines the structure and behavior of objects, while an object is an instance of that class.\n",
    "\n",
    "- A reference variable stores the memory address of an object.\n",
    "\n",
    "- Every object has a toString() method because it inherits from the Object class."
   ]
  },
  {
   "cell_type": "markdown",
   "id": "cd697db8",
   "metadata": {},
   "source": [
    "## Its your first day of class when Mr. Mortenson asks you to identify all the students and list some characteristics about them. Create a class to use as a template to create student objects and create 3 imaginary students."
   ]
  },
  {
   "cell_type": "code",
   "execution_count": null,
   "id": "544b5e7c",
   "metadata": {
    "vscode": {
     "languageId": "java"
    }
   },
   "outputs": [],
   "source": [
    "class Student {\n",
    "    String name;\n",
    "    int grade;\n",
    "    int pets;\n",
    "    int siblings;\n",
    "    String favoriteSubject;\n",
    "    boolean playsSports;\n",
    "\n",
    "    void printInfo() {\n",
    "        System.out.println(\"Name: \" + name);\n",
    "        System.out.println(\"Grade: \" + grade);\n",
    "        System.out.println(\"Pets: \" + pets);\n",
    "        System.out.println(\"Siblings: \" + siblings);\n",
    "        System.out.println(\"Favorite Subject: \" + favoriteSubject);\n",
    "        System.out.println(\"Plays Sports: \" + playsSports);\n",
    "        System.out.println();\n",
    "    }\n",
    "}\n",
    "\n",
    "class ClassroomIntro {\n",
    "    public static void main(String[] args) {\n",
    "        Student s1 = new Student();\n",
    "        s1.name = \"Aiden Ramirez\";\n",
    "        s1.grade = 10;\n",
    "        s1.pets = 2;\n",
    "        s1.siblings = 1;\n",
    "        s1.favoriteSubject = \"Computer Science\";\n",
    "        s1.playsSports = true;\n",
    "\n",
    "        Student s2 = new Student();\n",
    "        s2.name = \"Lila Chen\";\n",
    "        s2.grade = 11;\n",
    "        s2.pets = 0;\n",
    "        s2.siblings = 3;\n",
    "        s2.favoriteSubject = \"Biology\";\n",
    "        s2.playsSports = false;\n",
    "\n",
    "        Student s3 = new Student();\n",
    "        s3.name = \"Noah Patel\";\n",
    "        s3.grade = 9;\n",
    "        s3.pets = 1;\n",
    "        s3.siblings = 2;\n",
    "        s3.favoriteSubject = \"Art\";\n",
    "        s3.playsSports = true;\n",
    "\n",
    "        s1.printInfo();\n",
    "        s2.printInfo();\n",
    "        s3.printInfo();\n",
    "    }\n",
    "}\n"
   ]
  },
  {
   "cell_type": "markdown",
   "id": "c2d29c4b",
   "metadata": {},
   "source": [
    "## You find out that one of the students that you created an object for goes by a nickname. Using your knowledge of reference variables, create another object that references back to the same student."
   ]
  },
  {
   "cell_type": "code",
   "execution_count": null,
   "id": "8b8b379a",
   "metadata": {
    "vscode": {
     "languageId": "java"
    }
   },
   "outputs": [],
   "source": [
    "class Student {\n",
    "    String name;\n",
    "    int grade;\n",
    "    int pets;\n",
    "    int siblings;\n",
    "    String favoriteSubject;\n",
    "    boolean playsSports;\n",
    "\n",
    "    void printInfo() {\n",
    "        System.out.println(\"Name: \" + name);\n",
    "        System.out.println(\"Grade: \" + grade);\n",
    "        System.out.println(\"Pets: \" + pets);\n",
    "        System.out.println(\"Siblings: \" + siblings);\n",
    "        System.out.println(\"Favorite Subject: \" + favoriteSubject);\n",
    "        System.out.println(\"Plays Sports: \" + playsSports);\n",
    "        System.out.println();\n",
    "    }\n",
    "}\n",
    "\n",
    "class ClassroomIntro {\n",
    "    public static void main(String[] args) {\n",
    "        Student s1 = new Student();\n",
    "        s1.name = \"Aiden Ramirez\";\n",
    "        s1.grade = 10;\n",
    "        s1.pets = 2;\n",
    "        s1.siblings = 1;\n",
    "        s1.favoriteSubject = \"Computer Science\";\n",
    "        s1.playsSports = true;\n",
    "\n",
    "        Student s2 = new Student();\n",
    "        s2.name = \"Lila Chen\";\n",
    "        s2.grade = 11;\n",
    "        s2.pets = 0;\n",
    "        s2.siblings = 3;\n",
    "        s2.favoriteSubject = \"Biology\";\n",
    "        s2.playsSports = false;\n",
    "\n",
    "        Student s3 = new Student();\n",
    "        s3.name = \"Noah Patel\";\n",
    "        s3.grade = 9;\n",
    "        s3.pets = 1;\n",
    "        s3.siblings = 2;\n",
    "        s3.favoriteSubject = \"Art\";\n",
    "        s3.playsSports = true;\n",
    "\n",
    "        // Creating a reference variable that points to the same student\n",
    "        Student nicknameRef = s1;\n",
    "        nicknameRef.name = \"Ace\"; // nickname for Aiden\n",
    "\n",
    "        System.out.println(\"Original Student (s1):\");\n",
    "        s1.printInfo();\n",
    "\n",
    "        System.out.println(\"Nickname Reference (nicknameRef):\");\n",
    "        nicknameRef.printInfo();\n",
    "    }\n",
    "}\n"
   ]
  }
 ],
 "metadata": {
  "language_info": {
   "name": "python"
  }
 },
 "nbformat": 4,
 "nbformat_minor": 5
}
